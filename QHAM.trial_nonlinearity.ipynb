{
 "cells": [
  {
   "cell_type": "code",
   "execution_count": 1,
   "metadata": {},
   "outputs": [
    {
     "data": {
      "text/plain": [
       "'0.19.2'"
      ]
     },
     "execution_count": 1,
     "metadata": {},
     "output_type": "execute_result"
    }
   ],
   "source": [
    "## imports\n",
    "import qiskit\n",
    "from qiskit import *\n",
    "%matplotlib inline\n",
    "from qiskit.tools.visualization import plot_histogram\n",
    "from qiskit.providers.aer.noise import NoiseModel\n",
    "import qiskit.providers.aer.noise as noise\n",
    "#import qiskit.providers.models as mods\n",
    "import math\n",
    "import matplotlib\n",
    "import matplotlib.pyplot as plt\n",
    "from matplotlib import cm\n",
    "from matplotlib.colors import ListedColormap, LinearSegmentedColormap\n",
    "import numpy as np\n",
    "from matplotlib.ticker import FuncFormatter, MultipleLocator, FormatStrFormatter\n",
    "from qiskit.tools.monitor import job_monitor\n",
    "from qiskit.circuit import Parameter\n",
    "import seaborn as sns\n",
    "import pandas as pd\n",
    "from pprint import pprint\n",
    "\n",
    "#import matplotlib as mpl\n",
    "# matplotlib.rc('font',family='arial')\n",
    "\n",
    "qiskit.__version__"
   ]
  },
  {
   "cell_type": "code",
   "execution_count": 2,
   "metadata": {},
   "outputs": [],
   "source": [
    "provider = IBMQ.load_account()\n",
    "IBMQ.get_provider(hub='ibm-q-education', group='iit-madras-1', project='quantum-computin')\n",
    "## setup required backends \n",
    "lima = provider.get_backend('ibmq_lima')\n",
    "manila = provider.get_backend('ibmq_manila')\n",
    "#melbourne = provider.get_backend('ibmq_melbourne')\n",
    "aer = Aer.get_backend('aer_simulator')\n",
    "qsm_simulator = Aer.get_backend('qasm_simulator')\n",
    "stv_simulator = Aer.get_backend('statevector_simulator')\n",
    "\n",
    "#device = provider.get_backend('ibmq_16_melbourne') #ibmq_16_melbourne ibmqx2\n",
    "#noise_model = NoiseModel.from_backend(device)\n",
    "#pprint(vars(provider.backends))"
   ]
  },
  {
   "cell_type": "code",
   "execution_count": 3,
   "metadata": {},
   "outputs": [],
   "source": [
    "## helper functions ~\n",
    "def wmatrix(attractors):\n",
    "    \"\"\" Pass the attractors to be stored as a list 'attractors' \n",
    "        NB~ attractors should be column vectors \"\"\"   \n",
    "    l = len(attractors[0])\n",
    "    wm = np.zeros((l, l))\n",
    "\n",
    "    for atractr in attractors:\n",
    "        wm += np.outer(atractr, atractr)\n",
    "    return wm\n",
    "\n",
    "def update(qc, qubit, cntrl_reg, phi, bias):\n",
    "    \"\"\" Update 'qubit' of the circuit 'qc' \n",
    "    using 'cntrl_reg': the control qubits \"\"\"\n",
    "    cntrls = len(cntrl_reg)\n",
    "    for cntrl in range(cntrls):\n",
    "        qc.cry((phi[cntrl]), cntrl_reg[cntrl], qubit)\n",
    "    qc.ry(bias, qubit)\n",
    "    #qc.barrier()\n",
    "\n",
    "def plot_attractor(attractors,n):\n",
    "    plt.figure(figsize=(12,10))\n",
    "    for a in range(len(attractors)):\n",
    "        plt.subplot(3, 4, a+1)\n",
    "        plt.title(\"Config \"+ str(a)+ \": \")\n",
    "        sns.heatmap(attractors[a].reshape((n,n)), xticklabels=False, yticklabels=False, cbar=False)\n",
    "\n",
    "## main driver code ~\n",
    "def experiment( x_0, attractors, N, q_update):\n",
    "    \n",
    "    #classical prep ~\n",
    "    l = len(attractors[0])\n",
    "    wm = wmatrix(attractors)\n",
    "    \n",
    "    #quantum prep ~\n",
    "    qnet = QuantumRegister(l, name='qnet')\n",
    "    qa = AncillaRegister(1, name='ancilla')\n",
    "    #creg = ClassicalRegister(l, name='creg')\n",
    "    qc = QuantumCircuit(qnet, qa)\n",
    "    for q in range(l+1):\n",
    "        qc.reset(q)\n",
    "    for q in range(l):\n",
    "        if(x_0[q] == 1):\n",
    "            qc.x(q)\n",
    "        elif(x_0[q] == 0):\n",
    "            qc.h(q)\n",
    "    qc.barrier()\n",
    "\n",
    "    #update sub-routine ~~\n",
    "    for qu in q_update:\n",
    "        qc.reset(qa)\n",
    "        controls = [cntrl for cntrl in range(l) if l!=q_updates ]\n",
    "        gamma = math.pi/( 4*wm.max()*(l-1) ) #n-1 is because we need size of control layer\n",
    "        beta = (math.pi/4)+gamma*(-sum(wm[qu][controls]))\n",
    "        update(qc, qa, controls,4*gamma*wm[qu][controls], 2*beta )\n",
    "        qc.swap(qa, qu)\n",
    "        \n",
    "    #measurements ~~\n",
    "    for q in range(l):\n",
    "        qc.measure(q, l-q-1)\n",
    "    \n",
    "    ##execute ~~\n",
    "    job = execute(qc, backend= aer, shots= 1200)\n",
    "    counts = job.result().get_counts()\n",
    "\n",
    "    reg_count = np.zeros(l)\n",
    "    for key,value in counts.items():\n",
    "        for q in range(l):\n",
    "             if key[q] == '1':\n",
    "                reg_count[q] += value\n",
    "    reg_count = reg_count/sum(counts.values())\n",
    "\n",
    "    return reg_count, counts\n"
   ]
  },
  {
   "cell_type": "code",
   "execution_count": 34,
   "metadata": {},
   "outputs": [
    {
     "data": {
      "text/html": [
       "<pre style=\"word-wrap: normal;white-space: pre;background: #fff0;line-height: 1.1;font-family: &quot;Courier New&quot;,Courier,monospace\">        ┌───┐                       \n",
       "q11513: ┤ X ├─────■─────────────────\n",
       "        └───┘┌────┴────┐┌───────┐┌─┐\n",
       "  a608: ─────┤ Ry(π/2) ├┤ Ry(0) ├┤M├\n",
       "             └─────────┘└───────┘└╥┘\n",
       "c608: 1/══════════════════════════╩═\n",
       "                                  0 </pre>"
      ],
      "text/plain": [
       "        ┌───┐                       \n",
       "q11513: ┤ X ├─────■─────────────────\n",
       "        └───┘┌────┴────┐┌───────┐┌─┐\n",
       "  a608: ─────┤ Ry(π/2) ├┤ Ry(0) ├┤M├\n",
       "             └─────────┘└───────┘└╥┘\n",
       "c608: 1/══════════════════════════╩═\n",
       "                                  0 "
      ]
     },
     "execution_count": 34,
     "metadata": {},
     "output_type": "execute_result"
    }
   ],
   "source": [
    "## test for non-linearity \n",
    "points = 100\n",
    "angles = np.linspace(0, math.pi/2, points)\n",
    "prob_aer = []\n",
    "for angle in angles:\n",
    "    \n",
    "    qreg = QuantumRegister(1)\n",
    "    an = AncillaRegister(1)\n",
    "    creg = ClassicalRegister(1)\n",
    "    qc = QuantumCircuit(qreg, an, creg, name='qc')\n",
    "    qc.x(qreg)\n",
    "    update(qc, an, qreg, [angle], 0)\n",
    "    qc.measure(an, creg)\n",
    "    \n",
    "    job = execute(qc, backend= aer, shots= 1024 )\n",
    "    prob_aer.append((job.result().get_counts(), angle))\n",
    "qc.draw()"
   ]
  },
  {
   "cell_type": "code",
   "execution_count": 41,
   "metadata": {},
   "outputs": [
    {
     "data": {
      "text/plain": [
       "0.0107421875"
      ]
     },
     "execution_count": 41,
     "metadata": {},
     "output_type": "execute_result"
    }
   ],
   "source": [
    "list(prob_aer[10][0].values())[0]/1024"
   ]
  },
  {
   "cell_type": "code",
   "execution_count": 35,
   "metadata": {},
   "outputs": [
    {
     "data": {
      "text/plain": [
       "[<matplotlib.lines.Line2D at 0x7f9adabc9dc0>]"
      ]
     },
     "execution_count": 35,
     "metadata": {},
     "output_type": "execute_result"
    },
    {
     "data": {
      "image/png": "[encoded data removed]",
      "text/plain": [
       "<Figure size 432x288 with 1 Axes>"
      ]
     },
     "metadata": {
      "needs_background": "light"
     },
     "output_type": "display_data"
    }
   ],
   "source": [
    "prob_list= [list(prob_aer[i][0].values())[0]/1024 for i in range(len(angles)) ]\n",
    "plt.plot(angles, prob_list)"
   ]
  },
  {
   "cell_type": "code",
   "execution_count": 37,
   "metadata": {},
   "outputs": [],
   "source": [
    "## test for non-linearity \n",
    "points = 100\n",
    "angles = np.linspace(0, math.pi/2, points)\n",
    "prob_manila = []\n",
    "for angle in angles:\n",
    "    \n",
    "    qreg = QuantumRegister(1)\n",
    "    an = AncillaRegister(1)\n",
    "    creg = ClassicalRegister(1)\n",
    "    qc = QuantumCircuit(qreg, an, creg, name='qc')\n",
    "    qc.x(qreg)\n",
    "    update(qc, an, qreg, [angle], 0)\n",
    "    qc.measure(an, creg)\n",
    "    job = execute(qc, backend= aer, shots= 1024 )\n",
    "    prob_manila.append((job.result().get_counts(), angle))"
   ]
  },
  {
   "cell_type": "code",
   "execution_count": 39,
   "metadata": {},
   "outputs": [
    {
     "data": {
      "text/plain": [
       "[<matplotlib.lines.Line2D at 0x7f9adaa8a4c0>]"
      ]
     },
     "execution_count": 39,
     "metadata": {},
     "output_type": "execute_result"
    },
    {
     "data": {
      "image/png": "[encoded data removed]",
      "text/plain": [
       "<Figure size 432x288 with 1 Axes>"
      ]
     },
     "metadata": {
      "needs_background": "light"
     },
     "output_type": "display_data"
    }
   ],
   "source": [
    "prob_list= [list(prob_manila[i][0].values())[0]/1024 for i in range(len(angles)) ]\n",
    "plt.plot(angles, prob_list)"
   ]
  },
  {
   "cell_type": "code",
   "execution_count": null,
   "metadata": {},
   "outputs": [],
   "source": []
  }
 ],
 "metadata": {
  "interpreter": {
   "hash": "916dbcbb3f70747c44a77c7bcd40155683ae19c65e1c03b4aa3499c5328201f1"
  },
  "kernelspec": {
   "display_name": "Python 3.8.10 64-bit",
   "language": "python",
   "name": "python3"
  },
  "language_info": {
   "codemirror_mode": {
    "name": "ipython",
    "version": 3
   },
   "file_extension": ".py",
   "mimetype": "text/x-python",
   "name": "python",
   "nbconvert_exporter": "python",
   "pygments_lexer": "ipython3",
   "version": "3.8.10"
  },
  "orig_nbformat": 4
 },
 "nbformat": 4,
 "nbformat_minor": 2
}
