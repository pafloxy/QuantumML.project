{
 "cells": [
  {
   "cell_type": "markdown",
   "metadata": {},
   "source": [
    "## Grover Search and Quantum Amplitude Estimation \n",
    "Brassard et al ('96)"
   ]
  },
  {
   "cell_type": "markdown",
   "metadata": {},
   "source": [
    "## GroverSearch Implementation"
   ]
  },
  {
   "cell_type": "code",
   "execution_count": null,
   "metadata": {},
   "outputs": [],
   "source": [
    "## imports\n",
    "from qiskit import *\n",
    "from qiskit import QuantumRegister, ClassicalRegister, QuantumCircuit\n",
    "from qiskit import quantum_info, IBMQ, Aer\n",
    "#from qiskit.ignis.verification.tomography import state_tomography_circuits, StateTomographyFitter\n",
    "from qiskit.visualization import plot_histogram, plot_state_qsphere, plot_bloch_multivector, plot_bloch_vector\n",
    "import numpy as np\n",
    "from numpy import pi\n",
    "import seaborn as sns\n",
    "from IPython.display import Image\n",
    "import matplotlib.pyplot as plt\n"
   ]
  },
  {
   "cell_type": "code",
   "execution_count": null,
   "metadata": {},
   "outputs": [],
   "source": [
    "# setup simulator using IBM_id\n",
    "# IBMQ.save_account(\"1c62e8a0d2b058d0e797db9c811bc34582df5553e25812301cd1518662c0ab68d2378ac6c197b65f8be944d04b7e7439f034e3926a44fa8088538b3d13782c1a\", overwrite= True)\n",
    "provider = IBMQ.load_account()\n",
    "IBMQ.get_provider(hub='ibm-q-education', group='iit-madras-1', project='quantum-computin')\n",
    "# setup required backends \n",
    "lima = provider.get_backend('ibmq_lima')\n",
    "manila = provider.get_backend('ibmq_manila')\n",
    "qsm_simulator = Aer.get_backend('qasm_simulator')\n",
    "stv_simulator = Aer.get_backend('statevector_simulator')\n",
    "aer = Aer.get_backend('aer_simulator')\n"
   ]
  },
  {
   "cell_type": "code",
   "execution_count": null,
   "metadata": {},
   "outputs": [],
   "source": [
    "manila.properties()"
   ]
  },
  {
   "cell_type": "code",
   "execution_count": null,
   "metadata": {},
   "outputs": [],
   "source": [
    "## sub-routines for Grover Search ~\n",
    "def to_oracle(pattern, name= 'oracle'):\n",
    "    \"\"\" convert a given pattern to an oracle\n",
    "    pattern~ a numpy vector with binarry entries \"\"\"\n",
    "    l = len(pattern)\n",
    "    qr = QuantumRegister(l, name='reg')\n",
    "    a = AncillaRegister(1, name='ancilla')\n",
    "    qc = QuantumCircuit(qr, a, name= name+str(pattern))\n",
    "    for q in range(l):\n",
    "        if(pattern[q]==0): qc.x(qr[q])\n",
    "    qc.x(a)\n",
    "    qc.h(a)\n",
    "    qc.mcx(qr, a)\n",
    "    qc.h(a)\n",
    "    qc.x(a)\n",
    "    for q in range(l):\n",
    "        if(pattern[q]==0): qc.x(qr[q])\n",
    "    #qc.barrier()\n",
    "    return qc.to_gate()\n",
    "\n",
    "def diffuser(l):\n",
    "    qr = QuantumRegister(l, name='reg')\n",
    "    a = AncillaRegister(1, name='ancilla')\n",
    "    circuit = QuantumCircuit(qr, a, name= 'Diff.')\n",
    "    \n",
    "    circuit.h(qr)\n",
    "    circuit.x(qr)\n",
    "    \n",
    "    circuit.x(a)\n",
    "    circuit.h(a)\n",
    "    circuit.mcx(qr ,a)\n",
    "    circuit.h(a)\n",
    "    circuit.x(a)\n",
    "\n",
    "    circuit.x(qr)\n",
    "    circuit.h(qr)\n",
    "          \n",
    "    return circuit.to_gate()\n",
    "\n",
    "def grover_iterate(qc, oracles, diffuser, qreg_u, ancilla, steps):\n",
    "    for step in range(steps):\n",
    "        for oracle in oracles:\n",
    "            qc.append(oracle, list(range(qc.num_qubits)) )\n",
    "        qc.append(diffuser, list([q for q in qreg_u])+ list(ancilla) )\n",
    "        # qc.barrier()\n",
    "    return qc\n"
   ]
  },
  {
   "cell_type": "code",
   "execution_count": null,
   "metadata": {},
   "outputs": [],
   "source": [
    "def run(patterns, grover_steps ):\n",
    "    \n",
    "    dim = len(patterns[0])\n",
    "    # create oracles ~\\\n",
    "    oracles = []\n",
    "    for pattern in patterns : oracles.append( to_oracle(pattern)) \n",
    "    \n",
    "    # create diffuser ~\\\n",
    "    diff = diffuser(dim)\n",
    "    # create circuit ~\\\n",
    "    \n",
    "    qreg = QuantumRegister(dim, name= 'init')\n",
    "    ancilla = AncillaRegister(1, name='ancilla')\n",
    "    creg = ClassicalRegister(dim)\n",
    "    qc = QuantumCircuit(qreg, creg, ancilla)\n",
    "    qc.h(qreg)\n",
    "    # run grover update steps ~\\\n",
    "    grover_iterate(qc, oracles, diff, qreg, ancilla,grover_steps)\n",
    "    qc.measure(qreg, creg)\n",
    "    \n",
    "    job = execute(qc, backend= aer, shots= 1024)\n",
    "    plot_histogram(job.result().get_counts())\n",
    "    \n",
    "    return qc, job\n"
   ]
  },
  {
   "cell_type": "code",
   "execution_count": 274,
   "metadata": {},
   "outputs": [],
   "source": [
    "patterns = [[0,1,1],[0,1,0],[0,0,0]]"
   ]
  },
  {
   "cell_type": "code",
   "execution_count": 275,
   "metadata": {},
   "outputs": [
    {
     "data": {
      "text/html": [
       "<pre style=\"word-wrap: normal;white-space: pre;background: #fff0;line-height: 1.1;font-family: &quot;Courier New&quot;,Courier,monospace\">         ┌───┐┌──────────────────┐┌──────────────────┐┌──────────────────┐»\n",
       " init_0: ┤ H ├┤0                 ├┤0                 ├┤0                 ├»\n",
       "         ├───┤│                  ││                  ││                  │»\n",
       " init_1: ┤ H ├┤1                 ├┤1                 ├┤1                 ├»\n",
       "         ├───┤│  oracle[0, 1, 1] ││  oracle[0, 1, 0] ││  oracle[0, 0, 0] │»\n",
       " init_2: ┤ H ├┤2                 ├┤2                 ├┤2                 ├»\n",
       "         └───┘│                  ││                  ││                  │»\n",
       "ancilla: ─────┤3                 ├┤3                 ├┤3                 ├»\n",
       "              └──────────────────┘└──────────────────┘└──────────────────┘»\n",
       "   c8: 3/═════════════════════════════════════════════════════════════════»\n",
       "                                                                          »\n",
       "«         ┌────────┐┌─┐      \n",
       "« init_0: ┤0       ├┤M├──────\n",
       "«         │        │└╥┘┌─┐   \n",
       "« init_1: ┤1       ├─╫─┤M├───\n",
       "«         │  Diff. │ ║ └╥┘┌─┐\n",
       "« init_2: ┤2       ├─╫──╫─┤M├\n",
       "«         │        │ ║  ║ └╥┘\n",
       "«ancilla: ┤3       ├─╫──╫──╫─\n",
       "«         └────────┘ ║  ║  ║ \n",
       "«   c8: 3/═══════════╩══╩══╩═\n",
       "«                    0  1  2 </pre>"
      ],
      "text/plain": [
       "         ┌───┐┌──────────────────┐┌──────────────────┐┌──────────────────┐»\n",
       " init_0: ┤ H ├┤0                 ├┤0                 ├┤0                 ├»\n",
       "         ├───┤│                  ││                  ││                  │»\n",
       " init_1: ┤ H ├┤1                 ├┤1                 ├┤1                 ├»\n",
       "         ├───┤│  oracle[0, 1, 1] ││  oracle[0, 1, 0] ││  oracle[0, 0, 0] │»\n",
       " init_2: ┤ H ├┤2                 ├┤2                 ├┤2                 ├»\n",
       "         └───┘│                  ││                  ││                  │»\n",
       "ancilla: ─────┤3                 ├┤3                 ├┤3                 ├»\n",
       "              └──────────────────┘└──────────────────┘└──────────────────┘»\n",
       "   c8: 3/═════════════════════════════════════════════════════════════════»\n",
       "                                                                          »\n",
       "«         ┌────────┐┌─┐      \n",
       "« init_0: ┤0       ├┤M├──────\n",
       "«         │        │└╥┘┌─┐   \n",
       "« init_1: ┤1       ├─╫─┤M├───\n",
       "«         │  Diff. │ ║ └╥┘┌─┐\n",
       "« init_2: ┤2       ├─╫──╫─┤M├\n",
       "«         │        │ ║  ║ └╥┘\n",
       "«ancilla: ┤3       ├─╫──╫──╫─\n",
       "«         └────────┘ ║  ║  ║ \n",
       "«   c8: 3/═══════════╩══╩══╩═\n",
       "«                    0  1  2 "
      ]
     },
     "execution_count": 275,
     "metadata": {},
     "output_type": "execute_result"
    }
   ],
   "source": [
    "circuit, job = run(patterns,1)\n",
    "circuit.draw()"
   ]
  },
  {
   "cell_type": "code",
   "execution_count": 276,
   "metadata": {},
   "outputs": [
    {
     "data": {
      "image/png": "[encoded data removed]",
      "text/plain": [
       "<Figure size 504x360 with 1 Axes>"
      ]
     },
     "execution_count": 276,
     "metadata": {},
     "output_type": "execute_result"
    }
   ],
   "source": [
    "plot_histogram(job.result().get_counts())    "
   ]
  },
  {
   "cell_type": "markdown",
   "metadata": {},
   "source": [
    "## QAE based on Quantum Phase Estimation"
   ]
  },
  {
   "cell_type": "code",
   "execution_count": null,
   "metadata": {},
   "outputs": [],
   "source": [
    "## sub-routines for QPE ~\n",
    "def crot(qc, l):\n",
    "    if l == 0:\n",
    "        return qc\n",
    "    l = l-1\n",
    "    qc.h(l)\n",
    "    for q in range(l):\n",
    "        qc.cp(pi/2**(l-q), q, l)\n",
    "    #qc.barrier()\n",
    "    # qc.draw()\n",
    "    \n",
    "def QFT(qc):\n",
    "   \"\"\"function to generate QFT circuit \"\"\"\n",
    "   dim = qc.num_qubits\n",
    "   for q in range(dim):\n",
    "      crot(qc, dim-q)\n",
    "   for q in range(int(dim/2)):\n",
    "      qc.swap(q, dim-q-1)\n",
    "\n",
    "   #qc.draw()\n",
    "   return qc\n",
    "   "
   ]
  },
  {
   "cell_type": "code",
   "execution_count": null,
   "metadata": {},
   "outputs": [],
   "source": [
    "## sub-routine for grover ~\n",
    "def grover(patterns, grover_steps):\n",
    "    \n",
    "    dim = len(patterns[0])\n",
    "    # create oracles ~\\\n",
    "    oracles = []\n",
    "    for pattern in patterns : oracles.append( to_oracle(pattern)) \n",
    "    \n",
    "    # create diffuser ~\\\n",
    "    diff = diffuser(dim)\n",
    "    # create circuit ~\\\n",
    "    \n",
    "    qreg = QuantumRegister(dim, name= 'init')\n",
    "    ancilla = AncillaRegister(1, name='ancilla')\n",
    "    # creg = ClassicalRegister(dim)\n",
    "    qc = QuantumCircuit(qreg, ancilla, name='grover'+'^'+str(grover_steps))\n",
    "    # qc.h(qreg)\n",
    "    # run grover update steps ~\\\n",
    "    grover_iterate(qc, oracles, diff, qreg, ancilla,grover_steps)\n",
    "    # qc.measure(qreg, creg)\n",
    "    \n",
    "    # job = execute(qc, backend= aer, shots= 1024)\n",
    "    # plot_histogram(job.result().get_counts())\n",
    "    \n",
    "    return qc"
   ]
  },
  {
   "cell_type": "markdown",
   "metadata": {},
   "source": [
    "## 1 qubit example : \n",
    "from https://github.com/Qiskit/qiskit-finance/blob/stable/0.3/docs/tutorials/00_amplitude_estimation.ipynb"
   ]
  },
  {
   "cell_type": "markdown",
   "metadata": {},
   "source": [
    "Given the initial state is of form~\n",
    "                    $\\begin{equation} \n",
    "                    \\ket{\\psi_0} = \\sqrt{1-p}\\ket{0} + \\sqrt{p}\\ket{1}\n",
    "                    \\end{equation}$,\n",
    "say, $\\sqrt{p} = sin(\\frac{\\theta}{2})$ and $\\sqrt{1-p} = cos(\\frac{\\theta}{2})\\\\$ \n",
    "Then the amplitude amplification process requires operator\n",
    "$\\begin{equation}\n",
    "    \\mathcal{Q} = \\mathcal{S}_{\\ket{\\psi_0}} \\mathcal{S}_{\\ket{1}}\n",
    "\\end{equation}$\n",
    "where, $\\mathcal{S}_{\\ket{\\psi_0}} and \\mathcal{S}_{\\ket{1}}$ are reflection operators about $\\ket{\\psi_0}$ and $\\ket{1}$ respectively $\\\\$\n",
    "Now $\\mathcal{S}_{\\ket{\\psi_0}} = R_y(\\theta)$, then \n",
    " $\\mathcal{Q} = cos(\\theta) (\\ket{0}\\bra{0} + \\ket{1}\\bra{1}) + sin(\\theta) (\\ket{0}\\bra{1} - \\ket{1}\\bra{0}) = R_{y}(2\\theta) \\\\ $\n",
    " \n"
   ]
  },
  {
   "cell_type": "code",
   "execution_count": 277,
   "metadata": {},
   "outputs": [],
   "source": [
    "## set p ~\n",
    "p = 0.7\n",
    "\n",
    "## operator preparation ~\n",
    "def s_psi0(p):\n",
    "    qc = QuantumCircuit(1, name= \" S_psi0 \")\n",
    "    theta = 2*np.arcsin(np.sqrt(p))\n",
    "    qc.ry(theta, 0)\n",
    "\n",
    "    return qc.to_gate()\n",
    "def Q(p, power):\n",
    "    theta = 2*np.arcsin(np.sqrt(p))\n",
    "    qc = QuantumCircuit(1, name= ' Q'+ '^'+ str(power) )\n",
    "    qc.ry(2*theta*power, 0)\n",
    "\n",
    "    return qc.to_gate()\n",
    "    "
   ]
  },
  {
   "cell_type": "code",
   "execution_count": 278,
   "metadata": {},
   "outputs": [
    {
     "data": {
      "text/html": [
       "<pre style=\"word-wrap: normal;white-space: pre;background: #fff0;line-height: 1.1;font-family: &quot;Courier New&quot;,Courier,monospace\">                  ┌───┐     ░                                  ░ ┌─────────┐\n",
       " precisio_q_0: ───┤ H ├─────░────■─────────────────────────────░─┤0        ├\n",
       "                  ├───┤     ░    │                             ░ │         │\n",
       " precisio_q_1: ───┤ H ├─────░────┼───────■─────────────────────░─┤1        ├\n",
       "                  ├───┤     ░    │       │                     ░ │  QFT_dg │\n",
       " precisio_q_2: ───┤ H ├─────░────┼───────┼───────■─────────────░─┤2        ├\n",
       "                  ├───┤     ░    │       │       │             ░ │         │\n",
       " precisio_q_3: ───┤ H ├─────░────┼───────┼───────┼───────■─────░─┤3        ├\n",
       "               ┌──┴───┴───┐ ░ ┌──┴───┐┌──┴───┐┌──┴───┐┌──┴───┐ ░ └─────────┘\n",
       "         qreg: ┤  S_psi0  ├─░─┤  Q^1 ├┤  Q^2 ├┤  Q^4 ├┤  Q^8 ├─░────────────\n",
       "               └──────────┘ ░ └──────┘└──────┘└──────┘└──────┘ ░            \n",
       "precision_c: 4/═════════════════════════════════════════════════════════════\n",
       "                                                                            </pre>"
      ],
      "text/plain": [
       "                  ┌───┐     ░                                  ░ ┌─────────┐\n",
       " precisio_q_0: ───┤ H ├─────░────■─────────────────────────────░─┤0        ├\n",
       "                  ├───┤     ░    │                             ░ │         │\n",
       " precisio_q_1: ───┤ H ├─────░────┼───────■─────────────────────░─┤1        ├\n",
       "                  ├───┤     ░    │       │                     ░ │  QFT_dg │\n",
       " precisio_q_2: ───┤ H ├─────░────┼───────┼───────■─────────────░─┤2        ├\n",
       "                  ├───┤     ░    │       │       │             ░ │         │\n",
       " precisio_q_3: ───┤ H ├─────░────┼───────┼───────┼───────■─────░─┤3        ├\n",
       "               ┌──┴───┴───┐ ░ ┌──┴───┐┌──┴───┐┌──┴───┐┌──┴───┐ ░ └─────────┘\n",
       "         qreg: ┤  S_psi0  ├─░─┤  Q^1 ├┤  Q^2 ├┤  Q^4 ├┤  Q^8 ├─░────────────\n",
       "               └──────────┘ ░ └──────┘└──────┘└──────┘└──────┘ ░            \n",
       "precision_c: 4/═════════════════════════════════════════════════════════════\n",
       "                                                                            "
      ]
     },
     "execution_count": 278,
     "metadata": {},
     "output_type": "execute_result"
    }
   ],
   "source": [
    "precision = 4\n",
    "preg = QuantumRegister(precision, name= 'precisio_q')\n",
    "qreg = QuantumRegister(1, name='qreg')\n",
    "creg = ClassicalRegister(precision, name='precision_c')\n",
    "qc = QuantumCircuit(preg,qreg, creg)\n",
    "\n",
    "qc.h(preg)\n",
    "qc.append(s_psi0(p), [precision] )\n",
    "qc.barrier()\n",
    "for q in range(precision):\n",
    "    qc.append(Q(p,2**q).control(1), [q]+list(range(precision,precision+1)) )\n",
    "\n",
    "qftgate_inv = QFT(QuantumCircuit(precision, name='QFT')).to_gate().inverse()\n",
    "qc.barrier()\n",
    "qc.append(qftgate_inv, list(range(precision)))\n",
    "\n",
    "\n",
    "qc.draw()"
   ]
  },
  {
   "cell_type": "code",
   "execution_count": 279,
   "metadata": {},
   "outputs": [
    {
     "data": {
      "text/plain": [
       "{'1001': 1,\n",
       " '0010': 2,\n",
       " '0100': 2,\n",
       " '0110': 3,\n",
       " '1100': 2,\n",
       " '0101': 1024,\n",
       " '0001': 1,\n",
       " '1000': 2,\n",
       " '1011': 960,\n",
       " '1101': 2,\n",
       " '0011': 1}"
      ]
     },
     "execution_count": 279,
     "metadata": {},
     "output_type": "execute_result"
    }
   ],
   "source": [
    "qc.measure(preg, creg)\n",
    "job = execute(qc, backend= aer, shots= 2000)\n",
    "counts = job.result().get_counts()\n",
    "counts"
   ]
  },
  {
   "cell_type": "code",
   "execution_count": 280,
   "metadata": {},
   "outputs": [
    {
     "data": {
      "image/png": "[encoded data removed]",
      "text/plain": [
       "<Figure size 504x360 with 1 Axes>"
      ]
     },
     "execution_count": 280,
     "metadata": {},
     "output_type": "execute_result"
    }
   ],
   "source": [
    "plot_histogram(counts)"
   ]
  },
  {
   "cell_type": "code",
   "execution_count": 281,
   "metadata": {},
   "outputs": [
    {
     "name": "stdout",
     "output_type": "stream",
     "text": [
      "p =  0.6913417161825449\n",
      "p =  0.6913417161825453\n"
     ]
    }
   ],
   "source": [
    "estimate = sorted(zip(counts.values(), counts.keys()), reverse= True)\n",
    "for p in range(2): print('p = ',(np.sin(int(estimate[p][1], 2)*pi/(2**precision)))**2 )"
   ]
  },
  {
   "cell_type": "code",
   "execution_count": null,
   "metadata": {},
   "outputs": [],
   "source": [
    "# (np.sin(int('1011',2)*pi/(2**precision)))**2"
   ]
  },
  {
   "cell_type": "markdown",
   "metadata": {},
   "source": [
    "## Generalised multi-qubit QAE"
   ]
  },
  {
   "cell_type": "markdown",
   "metadata": {},
   "source": [
    "For the multi qubit case consider a n-qubit system, such that some of its computational basis state are marked 'good' while others are marked 'bad' states. Then the initial state can be expressed as a superpotion of $\\ket{good}$ and $\\ket{bad}$ states as \n",
    "$\\begin{equation}\n",
    "    \\ket{\\psi_0} = \\sqrt{\\frac{N-M}{N}}\\ket{bad} + \\sqrt{\\frac{M}{N}}\\ket{good}\n",
    "\\end{equation}$\n",
    "where $N = 2^n$ and $M$ is the no. of 'good' states.$\\\\$\n",
    "Our aim here is to estimate the number of 'good' states $M$ using QPE as proposed by Brassard et al ('96) $\\\\$\n",
    "As before we assume,\n",
    "$\\begin{align}\n",
    "    \\sqrt{\\frac{N-M}{N}} = cos(\\frac{\\theta}{2}) \\\\\n",
    "    \\sqrt{\\frac{M}{N}} = sin(\\frac{\\theta}{2})\n",
    "\\end{align}$ \n",
    "\n"
   ]
  },
  {
   "cell_type": "code",
   "execution_count": 287,
   "metadata": {},
   "outputs": [],
   "source": [
    "# patterns = [[0,1,1],[0,1,0],[1,1,1],[0,0,0]]\n",
    "patterns = [[0,1,1],[0,0,0],[0,1,0]]"
   ]
  },
  {
   "cell_type": "code",
   "execution_count": 288,
   "metadata": {},
   "outputs": [
    {
     "data": {
      "text/html": [
       "<pre style=\"word-wrap: normal;white-space: pre;background: #fff0;line-height: 1.1;font-family: &quot;Courier New&quot;,Courier,monospace\">               ┌───┐                                                     ░ »\n",
       "precision_q_0: ┤ H ├──────■──────────────────────────────────────────────░─»\n",
       "               ├───┤      │                                              ░ »\n",
       "precision_q_1: ┤ H ├──────┼────────────■─────────────────────────────────░─»\n",
       "               ├───┤      │            │                                 ░ »\n",
       "precision_q_2: ┤ H ├──────┼────────────┼────────────■────────────────────░─»\n",
       "               ├───┤      │            │            │                    ░ »\n",
       "precision_q_3: ┤ H ├──────┼────────────┼────────────┼────────────■───────░─»\n",
       "               ├───┤┌─────┴─────┐┌─────┴─────┐┌─────┴─────┐┌─────┴─────┐ ░ »\n",
       "       qreg_0: ┤ H ├┤0          ├┤0          ├┤0          ├┤0          ├─░─»\n",
       "               ├───┤│           ││           ││           ││           │ ░ »\n",
       "       qreg_1: ┤ H ├┤1          ├┤1          ├┤1          ├┤1          ├─░─»\n",
       "               ├───┤│  grover^1 ││  grover^2 ││  grover^4 ││  grover^8 │ ░ »\n",
       "       qreg_2: ┤ H ├┤2          ├┤2          ├┤2          ├┤2          ├─░─»\n",
       "               └───┘│           ││           ││           ││           │ ░ »\n",
       "      ancilla: ─────┤3          ├┤3          ├┤3          ├┤3          ├─░─»\n",
       "                    └───────────┘└───────────┘└───────────┘└───────────┘ ░ »\n",
       " precison_c: 4/════════════════════════════════════════════════════════════»\n",
       "                                                                           »\n",
       "«               ┌─────────┐\n",
       "«precision_q_0: ┤0        ├\n",
       "«               │         │\n",
       "«precision_q_1: ┤1        ├\n",
       "«               │  QFT_dg │\n",
       "«precision_q_2: ┤2        ├\n",
       "«               │         │\n",
       "«precision_q_3: ┤3        ├\n",
       "«               └─────────┘\n",
       "«       qreg_0: ───────────\n",
       "«                          \n",
       "«       qreg_1: ───────────\n",
       "«                          \n",
       "«       qreg_2: ───────────\n",
       "«                          \n",
       "«      ancilla: ───────────\n",
       "«                          \n",
       "« precison_c: 4/═══════════\n",
       "«                          </pre>"
      ],
      "text/plain": [
       "               ┌───┐                                                     ░ »\n",
       "precision_q_0: ┤ H ├──────■──────────────────────────────────────────────░─»\n",
       "               ├───┤      │                                              ░ »\n",
       "precision_q_1: ┤ H ├──────┼────────────■─────────────────────────────────░─»\n",
       "               ├───┤      │            │                                 ░ »\n",
       "precision_q_2: ┤ H ├──────┼────────────┼────────────■────────────────────░─»\n",
       "               ├───┤      │            │            │                    ░ »\n",
       "precision_q_3: ┤ H ├──────┼────────────┼────────────┼────────────■───────░─»\n",
       "               ├───┤┌─────┴─────┐┌─────┴─────┐┌─────┴─────┐┌─────┴─────┐ ░ »\n",
       "       qreg_0: ┤ H ├┤0          ├┤0          ├┤0          ├┤0          ├─░─»\n",
       "               ├───┤│           ││           ││           ││           │ ░ »\n",
       "       qreg_1: ┤ H ├┤1          ├┤1          ├┤1          ├┤1          ├─░─»\n",
       "               ├───┤│  grover^1 ││  grover^2 ││  grover^4 ││  grover^8 │ ░ »\n",
       "       qreg_2: ┤ H ├┤2          ├┤2          ├┤2          ├┤2          ├─░─»\n",
       "               └───┘│           ││           ││           ││           │ ░ »\n",
       "      ancilla: ─────┤3          ├┤3          ├┤3          ├┤3          ├─░─»\n",
       "                    └───────────┘└───────────┘└───────────┘└───────────┘ ░ »\n",
       " precison_c: 4/════════════════════════════════════════════════════════════»\n",
       "                                                                           »\n",
       "«               ┌─────────┐\n",
       "«precision_q_0: ┤0        ├\n",
       "«               │         │\n",
       "«precision_q_1: ┤1        ├\n",
       "«               │  QFT_dg │\n",
       "«precision_q_2: ┤2        ├\n",
       "«               │         │\n",
       "«precision_q_3: ┤3        ├\n",
       "«               └─────────┘\n",
       "«       qreg_0: ───────────\n",
       "«                          \n",
       "«       qreg_1: ───────────\n",
       "«                          \n",
       "«       qreg_2: ───────────\n",
       "«                          \n",
       "«      ancilla: ───────────\n",
       "«                          \n",
       "« precison_c: 4/═══════════\n",
       "«                          "
      ]
     },
     "execution_count": 288,
     "metadata": {},
     "output_type": "execute_result"
    }
   ],
   "source": [
    "precision = 4\n",
    "preg = QuantumRegister(precision, name='precision_q')\n",
    "qreg = QuantumRegister(3,name='qreg')\n",
    "ancilla = AncillaRegister(1, name='ancilla')\n",
    "creg = ClassicalRegister(precision, name='precison_c')\n",
    "\n",
    "qc = QuantumCircuit(preg, qreg, ancilla, creg)\n",
    "\n",
    "qc.h(preg)\n",
    "qc.h(qreg)\n",
    "for q in range(precision):\n",
    "    qc.append(grover(patterns,2**q).to_gate().control(1), [q]+list(range(precision,precision+4)) )\n",
    "\n",
    "qftgate_inv = QFT(QuantumCircuit(precision, name='QFT')).to_gate().inverse()\n",
    "qc.barrier()\n",
    "qc.append(qftgate_inv, list(range(precision)))\n",
    "\n",
    "\n",
    "\n",
    "\n",
    "# grover1 = grover(patterns,1).to_gate().control(1)\n",
    "# qc.append(grover1, [0,4,5,6,7])\n",
    "\n",
    "\n",
    "\n",
    "\n",
    "qc.draw()"
   ]
  },
  {
   "cell_type": "code",
   "execution_count": 289,
   "metadata": {},
   "outputs": [
    {
     "data": {
      "text/plain": [
       "{'0001': 8,\n",
       " '1110': 18,\n",
       " '1001': 13,\n",
       " '0111': 20,\n",
       " '0011': 39,\n",
       " '0000': 5,\n",
       " '1101': 25,\n",
       " '0010': 16,\n",
       " '1000': 14,\n",
       " '1011': 642,\n",
       " '0101': 675,\n",
       " '1100': 225,\n",
       " '0100': 200,\n",
       " '0110': 45,\n",
       " '1111': 7,\n",
       " '1010': 48}"
      ]
     },
     "execution_count": 289,
     "metadata": {},
     "output_type": "execute_result"
    }
   ],
   "source": [
    "qc.measure(preg, creg)\n",
    "job = execute(qc, backend= aer, shots= 2000)\n",
    "counts = job.result().get_counts()\n",
    "counts"
   ]
  },
  {
   "cell_type": "code",
   "execution_count": 290,
   "metadata": {},
   "outputs": [
    {
     "data": {
      "image/png": "[encoded data removed]",
      "text/plain": [
       "<Figure size 504x360 with 1 Axes>"
      ]
     },
     "execution_count": 290,
     "metadata": {},
     "output_type": "execute_result"
    }
   ],
   "source": [
    "plot_histogram(counts)"
   ]
  },
  {
   "cell_type": "code",
   "execution_count": 291,
   "metadata": {},
   "outputs": [
    {
     "name": "stdout",
     "output_type": "stream",
     "text": [
      "p =  0.6913417161825449\n",
      "p =  0.6913417161825453\n"
     ]
    }
   ],
   "source": [
    "estimate = sorted(zip(counts.values(), counts.keys()), reverse= True)\n",
    "for p in range(2): print('p = ',(np.sin(int(estimate[p][1], 2)*np.pi/(2**precision)))**2 )"
   ]
  },
  {
   "cell_type": "code",
   "execution_count": null,
   "metadata": {},
   "outputs": [],
   "source": [
    "# (np.sin(int('0100',2)*pi/(2**precision)))**2"
   ]
  },
  {
   "cell_type": "code",
   "execution_count": 292,
   "metadata": {},
   "outputs": [
    {
     "data": {
      "text/plain": [
       "0.375"
      ]
     },
     "execution_count": 292,
     "metadata": {},
     "output_type": "execute_result"
    }
   ],
   "source": [
    "3/8"
   ]
  },
  {
   "cell_type": "code",
   "execution_count": null,
   "metadata": {},
   "outputs": [],
   "source": []
  }
 ],
 "metadata": {
  "interpreter": {
   "hash": "31f2aee4e71d21fbe5cf8b01ff0e069b9275f58929596ceb00d14d90e3e16cd6"
  },
  "kernelspec": {
   "display_name": "Python 3.8.10 64-bit",
   "language": "python",
   "name": "python3"
  },
  "language_info": {
   "codemirror_mode": {
    "name": "ipython",
    "version": 3
   },
   "file_extension": ".py",
   "mimetype": "text/x-python",
   "name": "python",
   "nbconvert_exporter": "python",
   "pygments_lexer": "ipython3",
   "version": "3.8.10"
  },
  "orig_nbformat": 4
 },
 "nbformat": 4,
 "nbformat_minor": 2
}
