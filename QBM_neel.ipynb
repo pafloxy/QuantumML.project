{
  "cells": [
    {
      "cell_type": "markdown",
      "id": "c5857d54",
      "metadata": {
        "id": "c5857d54"
      },
      "source": [
        "### Implementation of Quantum Boltzmann Machine"
      ]
    },
    {
      "cell_type": "code",
      "execution_count": null,
      "id": "ea717166",
      "metadata": {
        "id": "ea717166"
      },
      "outputs": [],
      "source": [
        "import numpy as np\n",
        "import matplotlib.pyplot as plt\n",
        "from qiskit.tools.visualization import plot_histogram\n",
        "import math as mt\n",
        "from qiskit.quantum_info import Pauli"
      ]
    },
    {
      "cell_type": "code",
      "execution_count": null,
      "id": "625e4775",
      "metadata": {
        "id": "625e4775"
      },
      "outputs": [],
      "source": [
        "from quspin.operators import hamiltonian # Hamiltonians and operators\n",
        "from quspin.basis import spin_basis_1d # Hilbert space spin basis"
      ]
    },
    {
      "cell_type": "code",
      "execution_count": null,
      "id": "1f006e25",
      "metadata": {
        "id": "1f006e25"
      },
      "outputs": [],
      "source": [
        "## define model parameters\n",
        "N=2# number of qubits\n",
        "J=1.0\n",
        "g=0.809 # transverse field\n",
        "h=0.9045 # longitudinal field\n",
        "\n",
        "basis=spin_basis_1d(N,pauli=True)\n",
        "\n",
        "params=[h,h, h,h, J ]#[first N hz| next n:hx | nC2: h1zh2z]\n",
        "h_z=[[params[i],i] for i in range(0,N)]\n",
        "h_x=[[params[i],i-N] for i in range(N,2*N)]\n",
        "\n",
        "\n",
        "\n",
        "J_zz=[]\n",
        "for i in range(0,N-1):\n",
        "    for j in range(i+1,N):\n",
        "        J_zz.append([J,i,j])\n",
        "\n",
        "\n",
        "#static and dynamic list\n",
        "static=[['zz',J_zz],[\"x\",h_x],[\"z\",h_z]]\n",
        "dynamic=[]\n",
        "\n",
        "#ref: manuel bhaiya\n",
        "no_checks={\"check_herm\":False,\"check_pcon\":False,\"check_symm\":False}\n",
        "\n",
        "#defining qbm hamiltonian\n",
        "Hamiltonian_qbm=hamiltonian(static,dynamic,basis=basis,dtype=np.float64,**no_checks)"
      ]
    },
    {
      "cell_type": "code",
      "execution_count": null,
      "id": "d0fb63e2",
      "metadata": {
        "id": "d0fb63e2"
      },
      "outputs": [],
      "source": [
        "def required_operators(num_qubits,params):\n",
        "    op_list=[]\n",
        "    nc2=int(num_qubits*(num_qubits-1))/2\n",
        "    index=list(range(int(2*num_qubits+nc2)))\n",
        "    \n",
        "    #first n: Z operators\n",
        "    for i in range(num_qubits):\n",
        "        a=[\"I\"]*num_qubits\n",
        "        a[i]=\"Z\"\n",
        "        to_append=\"\".join(a)\n",
        "        op_list.append(to_append)\n",
        "    \n",
        "    #next n: X operators\n",
        "    for i in range(num_qubits):\n",
        "        a=[\"I\"]*num_qubits\n",
        "        a[i]=\"X\"\n",
        "        to_append=\"\".join(a)\n",
        "        op_list.append(to_append)\n",
        "    \n",
        "    #next nC2: ZiZj operators\n",
        "    for i in range(0,num_qubits-1):\n",
        "        a=[\"I\"]*num_qubits\n",
        "        a[i]=\"Z\"\n",
        "        for j in range(i+1,num_qubits):\n",
        "            a[j]=\"Z\"\n",
        "            to_append=\"\".join(a)\n",
        "            op_list.append(to_append)\n",
        "            a[j]=\"I\"\n",
        "    \n",
        "    to_return=zip(index,params,op_list)\n",
        "    return to_return"
      ]
    },
    {
      "cell_type": "code",
      "execution_count": null,
      "id": "460e95b6",
      "metadata": {
        "id": "460e95b6",
        "outputId": "90198f46-7816-41ba-a4bc-487254b3964b"
      },
      "outputs": [
        {
          "name": "stdout",
          "output_type": "stream",
          "text": [
            "[(0, 0.9045, 'ZI'), (1, 0.9045, 'IZ'), (2, 0.9045, 'XI'), (3, 0.9045, 'IX'), (4, 1.0, 'ZZ')]\n"
          ]
        }
      ],
      "source": [
        "aa=required_operators(2,params)\n",
        "print(list(aa))"
      ]
    },
    {
      "cell_type": "code",
      "execution_count": null,
      "id": "09fe8fce",
      "metadata": {
        "scrolled": true,
        "id": "09fe8fce",
        "outputId": "df2e9296-1ed6-4367-8654-d221d3c99953"
      },
      "outputs": [
        {
          "name": "stdout",
          "output_type": "stream",
          "text": [
            "reference states: \n",
            "array index   /   Fock state   /   integer repr. \n",
            "     0.         |1 1>           3  \n",
            "     1.         |1 0>           2  \n",
            "     2.         |0 1>           1  \n",
            "     3.         |0 0>           0  \n",
            "static mat: \n",
            "  (0, 0)\t2.809\n",
            "  (0, 1)\t0.9045\n",
            "  (0, 2)\t0.9045\n",
            "  (1, 0)\t0.9045\n",
            "  (1, 1)\t-1.0\n",
            "  (1, 3)\t0.9045\n",
            "  (2, 0)\t0.9045\n",
            "  (2, 2)\t-1.0\n",
            "  (2, 3)\t0.9045\n",
            "  (3, 1)\t0.9045\n",
            "  (3, 2)\t0.9045\n",
            "  (3, 3)\t-0.8089999999999999\n",
            "\n",
            "\n",
            "dynamic:\n",
            "\n"
          ]
        }
      ],
      "source": [
        "print(basis)\n",
        "basis_check=spin_basis_1d(3,pauli=True)\n",
        "print(Hamiltonian_qbm)"
      ]
    },
    {
      "cell_type": "code",
      "execution_count": null,
      "id": "ac444b30",
      "metadata": {
        "id": "ac444b30",
        "outputId": "4880c5f3-9592-4acf-d68c-81c4ef32e421"
      },
      "outputs": [
        {
          "data": {
            "text/plain": [
              "'\\nprint(E)\\nprint(\"_\"*10)\\nprint(V)\\nprint(np.shape(V))\\nnp.dot(V[:,1],V[:,3])\\nprint(len(V))\\nnp.square(V)\\n'"
            ]
          },
          "execution_count": 5,
          "metadata": {},
          "output_type": "execute_result"
        }
      ],
      "source": [
        "#finding eigenvalues and eigen-vector\n",
        "E,V=Hamiltonian_qbm.eigh()#eigen vectors are arranged columnwise.\n",
        "'''\n",
        "print(E)\n",
        "print(\"_\"*10)\n",
        "print(V)\n",
        "print(np.shape(V))\n",
        "np.dot(V[:,1],V[:,3])\n",
        "print(len(V))\n",
        "np.square(V)\n",
        "'''"
      ]
    },
    {
      "cell_type": "code",
      "execution_count": null,
      "id": "c35f83bc",
      "metadata": {
        "id": "c35f83bc"
      },
      "outputs": [],
      "source": [
        "def prob_distn_of_bitstring_from_model(eigenvector_mat,eigen_vals):\n",
        "    num_of_qubits=np.log2(len(eigen_vals))\n",
        "    #print(num_of_qubits)\n",
        "    \n",
        "    partn_fn=0; prob_eigenvec=[]\n",
        "    for i in range(0,len(eigen_vals)):\n",
        "        exp_val=np.exp(eigen_vals[i])\n",
        "        partn_fn+=exp_val\n",
        "        prob_eigenvec.append(exp_val)\n",
        "    prob_eigenvec=[i/partn_fn for i in prob_eigenvec]\n",
        "    #print(prob_eigenvec)\n",
        "    \n",
        "    \n",
        "    num_bits_in_string=int(2**(num_of_qubits))\n",
        "    #print(num_bits_in_string)\n",
        "    sq_all_elements_eigenvecs=np.square(eigenvector_mat)\n",
        "    prob_distn_dict={}\n",
        "    num_eigenvecs=np.shape(eigenvector_mat)[1]\n",
        "    #print(num_eigenvecs)\n",
        "    for i in range(0,num_bits_in_string):\n",
        "        sum_temp=0\n",
        "        for j in range(0,num_eigenvecs):\n",
        "            #print((i,j))\n",
        "            sum_temp+=sq_all_elements_eigenvecs[i,j]*(prob_eigenvec[j])\n",
        "        string=\"0\"+str(int(num_of_qubits))+\"b\"\n",
        "        prob_distn_dict[format(int(i),string)]=sum_temp\n",
        "    return prob_distn_dict\n",
        "            \n",
        "    "
      ]
    },
    {
      "cell_type": "code",
      "execution_count": null,
      "id": "9a3ec104",
      "metadata": {
        "id": "9a3ec104",
        "outputId": "ecdac432-a6a4-475a-af52-d4a5dfcb5391"
      },
      "outputs": [
        {
          "name": "stdout",
          "output_type": "stream",
          "text": [
            "{'00': 0.8412713943425358, '01': 0.06134403234474942, '10': 0.06134403234474943, '11': 0.03604054096796533}\n"
          ]
        },
        {
          "data": {
            "text/plain": [
              "1.0"
            ]
          },
          "execution_count": 7,
          "metadata": {},
          "output_type": "execute_result"
        }
      ],
      "source": [
        "returned_dict=prob_distn_of_bitstring_from_model(V,E)\n",
        "print(returned_dict)\n",
        "np.sum(list(returned_dict.values()))"
      ]
    },
    {
      "cell_type": "code",
      "execution_count": null,
      "id": "b49942e3",
      "metadata": {
        "id": "b49942e3",
        "outputId": "a286bac2-4a10-48d4-f036-1b2c15a15625"
      },
      "outputs": [
        {
          "data": {
            "image/png": "[encoded data removed]",
            "text/plain": [
              "<Figure size 504x360 with 1 Axes>"
            ]
          },
          "execution_count": 8,
          "metadata": {},
          "output_type": "execute_result"
        }
      ],
      "source": [
        "plot_histogram(returned_dict)"
      ]
    },
    {
      "cell_type": "markdown",
      "id": "8434bb20",
      "metadata": {
        "id": "8434bb20"
      },
      "source": [
        "#### sample training data-set from some known probability distn"
      ]
    },
    {
      "cell_type": "code",
      "execution_count": null,
      "id": "3a9c6a82",
      "metadata": {
        "id": "3a9c6a82"
      },
      "outputs": [],
      "source": [
        "from scipy.stats import binom\n",
        "def generateSamples(num_qubit, numSamples,p):\n",
        "    allSamples = []\n",
        "    for i in range(1):\n",
        "        data_binom = binom.rvs(n=2**(num_qubit)-1,p=p,loc=0,size=numSamples) #  16 if we use 4 qubits \n",
        "        x = []\n",
        "        for i in data_binom:\n",
        "            string=\"0\"+str(int(num_qubit))+\"b\"\n",
        "            x.append(format(int(i),string))\n",
        "            #x.append('{0:04b}'.format(i))                       # 6 must be changed to a 4 if the use 4 qubits \n",
        "    return x"
      ]
    },
    {
      "cell_type": "code",
      "execution_count": null,
      "id": "81aecf3a",
      "metadata": {
        "scrolled": true,
        "id": "81aecf3a",
        "outputId": "6544053f-10f0-4470-992b-889dcfddc67c"
      },
      "outputs": [
        {
          "data": {
            "image/png": "[encoded data removed]",
            "text/plain": [
              "<Figure size 504x360 with 1 Axes>"
            ]
          },
          "execution_count": 55,
          "metadata": {},
          "output_type": "execute_result"
        }
      ],
      "source": [
        "ts = generateSamples(2,500,0.1)         \n",
        "temp = np.unique(ts,return_counts=True)\n",
        "TS = {temp[0][i]:temp[1][i] for i in range(len(temp[0]))}\n",
        "ps = generateSamples(2,500,0.7)             ## this on is in the middle of the tomo\n",
        "pemp = np.unique(ps,return_counts=True)\n",
        "PS = {pemp[0][i]:pemp[1][i] for i in range(len(pemp[0]))}\n",
        "both = list(np.append(ts,ps))          ## this one has both\n",
        "stemp = np.unique(both,return_counts=True)\n",
        "trainingDict = {stemp[0][i]:stemp[1][i]/stemp[1].sum() for i in range(len(stemp[0]))} \n",
        "plot_histogram(trainingDict)"
      ]
    },
    {
      "cell_type": "markdown",
      "id": "23cd535e",
      "metadata": {
        "id": "23cd535e"
      },
      "source": [
        "### Sampling the expectation value of operator\n",
        "1.  from data\n",
        "2. from the model"
      ]
    },
    {
      "cell_type": "code",
      "execution_count": null,
      "id": "189337b2",
      "metadata": {
        "id": "189337b2"
      },
      "outputs": [],
      "source": [
        "# need to map strings to corresponding quantum operator\n",
        "dimension_of_vector=2**N"
      ]
    },
    {
      "cell_type": "code",
      "execution_count": null,
      "id": "56c45864",
      "metadata": {
        "id": "56c45864"
      },
      "outputs": [],
      "source": [
        "def string_to_vec(binary_string_input):\n",
        "    '''\n",
        "    to_return=np.zeros((1,2**(len(binary_string_input))))\n",
        "    replace_with_one_at=int(binary_string_input,2)\n",
        "    to_return[0,replace_with_one_at]=1\n",
        "    '''\n",
        "    from qiskit.quantum_info import Statevector #string to vector conversion\n",
        "    to_return=Statevector.from_label(binary_string_input)\n",
        "    to_return=np.real(to_return)\n",
        "    #shape of matrix returned= (value,1)\n",
        "    to_return=np.reshape(to_return,(len(to_return),1))\n",
        "    return to_return\n"
      ]
    },
    {
      "cell_type": "code",
      "execution_count": null,
      "id": "b0536313",
      "metadata": {
        "id": "b0536313"
      },
      "outputs": [],
      "source": [
        "def vec_to_string(vector_input,dimn_input_tuple):\n",
        "    '''\n",
        "    input vector's shape= (num_rows,1)\n",
        "    '''\n",
        "    from qiskit.quantum_info import Statevector\n",
        "    qiskit_statevec=Statevector(vector_input,dims=dimn_input_tuple)\n",
        "    dict_statevec=list(qiskit_statevec.to_dict().keys())\n",
        "    string_to_return= dict_statevec[0]\n",
        "    return string_to_return"
      ]
    },
    {
      "cell_type": "code",
      "execution_count": null,
      "id": "d0fd051b",
      "metadata": {
        "id": "d0fd051b",
        "outputId": "ce828309-0b6d-417a-8f99-395ce5259631"
      },
      "outputs": [
        {
          "data": {
            "text/plain": [
              "'01'"
            ]
          },
          "execution_count": 20,
          "metadata": {},
          "output_type": "execute_result"
        }
      ],
      "source": [
        "bbb=vec_to_string(np.array([0,1,0,0]),(2,2))\n",
        "bbb"
      ]
    },
    {
      "cell_type": "code",
      "execution_count": null,
      "id": "893602fc",
      "metadata": {
        "id": "893602fc",
        "outputId": "ea429014-a888-44ed-92ec-97955765aeff"
      },
      "outputs": [
        {
          "name": "stdout",
          "output_type": "stream",
          "text": [
            "[[0.+0.j 1.+0.j 0.+0.j 0.+0.j]\n",
            " [1.+0.j 0.+0.j 0.+0.j 0.+0.j]\n",
            " [0.+0.j 0.+0.j 0.+0.j 1.+0.j]\n",
            " [0.+0.j 0.+0.j 1.+0.j 0.+0.j]]\n"
          ]
        }
      ],
      "source": [
        "def matrix_tensor_prod_of_operators(string_tensor_prod):\n",
        "    from qiskit.quantum_info.operators import Pauli\n",
        "    tensor_prod=Pauli(string_tensor_prod).to_matrix()\n",
        "    return tensor_prod\n",
        "print(matrix_tensor_prod_of_operators('IX'))"
      ]
    },
    {
      "cell_type": "code",
      "execution_count": null,
      "id": "5494b56b",
      "metadata": {
        "id": "5494b56b"
      },
      "outputs": [],
      "source": [
        "a=np.array([[1,2],[3,4]])\n",
        "hehe={\"0\":0.6,\"1\":0.3}\n",
        "print(list(hehe.keys()))\n",
        "hehe[list(hehe.keys())[1]]"
      ]
    },
    {
      "cell_type": "code",
      "execution_count": null,
      "id": "9893f702",
      "metadata": {
        "id": "9893f702"
      },
      "outputs": [],
      "source": [
        "def expectation_of_operator(operator_matrix,dict_bitstring_and_prob):\n",
        "    \n",
        "    #inner product\n",
        "    string_list=list(dict_bitstring_and_prob.keys())\n",
        "    inner_product_list=[]\n",
        "    for i in range(len(dict_bitstring_and_prob)):\n",
        "        vector_of_str=computational_basis_vec(string_list[i])\n",
        "        #print(vector_of_str)\n",
        "        #print(\"_\"*10)\n",
        "        #print(np.dot(operator_matrix,vector_of_str))\n",
        "        to_append=np.dot( vector_of_str.T,\n",
        "                                  np.dot(operator_matrix,vector_of_str)\n",
        "                                 ) \n",
        "        inner_product_list.append(np.real(to_append)[0][0])\n",
        "    \n",
        "    #print(inner_product_list)\n",
        "    #calculating the expectation value\n",
        "    sum_val=0\n",
        "    for i in range(len(inner_product_list)):\n",
        "        prob=dict_bitstring_and_prob[list(dict_bitstring_and_prob.keys())[i]]\n",
        "        #print(\"prob:\",prob/sum(list(dict_bitstring_and_prob.values())))\n",
        "        sum_val+=prob*inner_product_list[i]\n",
        "        \n",
        "    return sum_val"
      ]
    },
    {
      "cell_type": "code",
      "execution_count": null,
      "id": "c61e1b2a",
      "metadata": {
        "scrolled": false,
        "id": "c61e1b2a",
        "outputId": "14a44064-4ce1-44a0-9bd8-00709f980b50"
      },
      "outputs": [
        {
          "data": {
            "text/plain": [
              "0.5959999999999999"
            ]
          },
          "execution_count": 47,
          "metadata": {},
          "output_type": "execute_result"
        }
      ],
      "source": [
        "some_op=Pauli('IZII').to_matrix()\n",
        "expectation_of_operator(some_op,trainingDict)"
      ]
    },
    {
      "cell_type": "markdown",
      "id": "76402312",
      "metadata": {
        "id": "76402312"
      },
      "source": [
        "### Updating parameters"
      ]
    },
    {
      "cell_type": "code",
      "execution_count": null,
      "id": "fe61a4c4",
      "metadata": {
        "id": "fe61a4c4"
      },
      "outputs": [],
      "source": [
        "\n",
        "    "
      ]
    },
    {
      "cell_type": "code",
      "execution_count": null,
      "id": "2c4c03a7",
      "metadata": {
        "id": "2c4c03a7"
      },
      "outputs": [],
      "source": [
        "a=Pauli('IX')\n",
        "b=a.to_matrix()\n",
        "print(b)"
      ]
    },
    {
      "cell_type": "code",
      "execution_count": null,
      "id": "4b11cf21",
      "metadata": {
        "id": "4b11cf21"
      },
      "outputs": [],
      "source": [
        ""
      ]
    },
    {
      "cell_type": "code",
      "execution_count": null,
      "id": "00ebd56e",
      "metadata": {
        "id": "00ebd56e"
      },
      "outputs": [],
      "source": [
        ""
      ]
    },
    {
      "cell_type": "code",
      "execution_count": null,
      "id": "c1dadbd0",
      "metadata": {
        "id": "c1dadbd0"
      },
      "outputs": [],
      "source": [
        ""
      ]
    }
  ],
  "metadata": {
    "kernelspec": {
      "display_name": "Python 3",
      "language": "python",
      "name": "python3"
    },
    "language_info": {
      "codemirror_mode": {
        "name": "ipython",
        "version": 3
      },
      "file_extension": ".py",
      "mimetype": "text/x-python",
      "name": "python",
      "nbconvert_exporter": "python",
      "pygments_lexer": "ipython3",
      "version": "3.8.8"
    },
    "colab": {
      "name": "Quantum_boltzman_machine.ipynb",
      "provenance": []
    }
  },
  "nbformat": 4,
  "nbformat_minor": 5
}